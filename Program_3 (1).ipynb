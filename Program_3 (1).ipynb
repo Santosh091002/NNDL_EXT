{
 "cells": [
  {
   "cell_type": "raw",
   "id": "a5a71bda-c894-4bb9-be0c-4e2a05bf41fc",
   "metadata": {},
   "source": [
    "Q3. Build a deep feed forward ANN by implementing the back propagation algorithm and test the same using appropriate datasets. \n",
    "Use the no. of hidden layers greater than or equal to 4."
   ]
  },
  {
   "cell_type": "code",
   "execution_count": 1,
   "id": "d534055b-be24-47fb-b7e5-f6d125f10d00",
   "metadata": {},
   "outputs": [],
   "source": [
    "import numpy as np\n",
    "from tensorflow.keras.models import Sequential\n",
    "from tensorflow.keras.layers import Dense, Flatten, Input"
   ]
  },
  {
   "cell_type": "code",
   "execution_count": 4,
   "id": "432f00b4-9915-4d2d-bb01-5e50fc432f32",
   "metadata": {},
   "outputs": [
    {
     "name": "stdout",
     "output_type": "stream",
     "text": [
      "Epoch 1/10\n",
      "\u001b[1m1500/1500\u001b[0m \u001b[32m━━━━━━━━━━━━━━━━━━━━\u001b[0m\u001b[37m\u001b[0m \u001b[1m8s\u001b[0m 4ms/step - accuracy: 0.8519 - loss: 0.4927 - val_accuracy: 0.9509 - val_loss: 0.1702\n",
      "Epoch 2/10\n",
      "\u001b[1m1500/1500\u001b[0m \u001b[32m━━━━━━━━━━━━━━━━━━━━\u001b[0m\u001b[37m\u001b[0m \u001b[1m5s\u001b[0m 3ms/step - accuracy: 0.9651 - loss: 0.1135 - val_accuracy: 0.9632 - val_loss: 0.1166\n",
      "Epoch 3/10\n",
      "\u001b[1m1500/1500\u001b[0m \u001b[32m━━━━━━━━━━━━━━━━━━━━\u001b[0m\u001b[37m\u001b[0m \u001b[1m5s\u001b[0m 3ms/step - accuracy: 0.9756 - loss: 0.0824 - val_accuracy: 0.9682 - val_loss: 0.1119\n",
      "Epoch 4/10\n",
      "\u001b[1m1500/1500\u001b[0m \u001b[32m━━━━━━━━━━━━━━━━━━━━\u001b[0m\u001b[37m\u001b[0m \u001b[1m5s\u001b[0m 3ms/step - accuracy: 0.9806 - loss: 0.0627 - val_accuracy: 0.9709 - val_loss: 0.1035\n",
      "Epoch 5/10\n",
      "\u001b[1m1500/1500\u001b[0m \u001b[32m━━━━━━━━━━━━━━━━━━━━\u001b[0m\u001b[37m\u001b[0m \u001b[1m5s\u001b[0m 3ms/step - accuracy: 0.9857 - loss: 0.0452 - val_accuracy: 0.9669 - val_loss: 0.1212\n",
      "Epoch 6/10\n",
      "\u001b[1m1500/1500\u001b[0m \u001b[32m━━━━━━━━━━━━━━━━━━━━\u001b[0m\u001b[37m\u001b[0m \u001b[1m5s\u001b[0m 4ms/step - accuracy: 0.9882 - loss: 0.0406 - val_accuracy: 0.9688 - val_loss: 0.1201\n",
      "Epoch 7/10\n",
      "\u001b[1m1500/1500\u001b[0m \u001b[32m━━━━━━━━━━━━━━━━━━━━\u001b[0m\u001b[37m\u001b[0m \u001b[1m5s\u001b[0m 3ms/step - accuracy: 0.9875 - loss: 0.0389 - val_accuracy: 0.9763 - val_loss: 0.0939\n",
      "Epoch 8/10\n",
      "\u001b[1m1500/1500\u001b[0m \u001b[32m━━━━━━━━━━━━━━━━━━━━\u001b[0m\u001b[37m\u001b[0m \u001b[1m4s\u001b[0m 3ms/step - accuracy: 0.9904 - loss: 0.0303 - val_accuracy: 0.9747 - val_loss: 0.1084\n",
      "Epoch 9/10\n",
      "\u001b[1m1500/1500\u001b[0m \u001b[32m━━━━━━━━━━━━━━━━━━━━\u001b[0m\u001b[37m\u001b[0m \u001b[1m6s\u001b[0m 3ms/step - accuracy: 0.9918 - loss: 0.0253 - val_accuracy: 0.9737 - val_loss: 0.1032\n",
      "Epoch 10/10\n",
      "\u001b[1m1500/1500\u001b[0m \u001b[32m━━━━━━━━━━━━━━━━━━━━\u001b[0m\u001b[37m\u001b[0m \u001b[1m5s\u001b[0m 3ms/step - accuracy: 0.9927 - loss: 0.0221 - val_accuracy: 0.9746 - val_loss: 0.1078\n",
      "\u001b[1m313/313\u001b[0m \u001b[32m━━━━━━━━━━━━━━━━━━━━\u001b[0m\u001b[37m\u001b[0m \u001b[1m1s\u001b[0m 2ms/step - accuracy: 0.9719 - loss: 0.1066\n",
      "Loss :  9.48%\n",
      "Accuracy :  97.54%\n"
     ]
    }
   ],
   "source": [
    "data_mnist =np.load('mnist.npz')\n",
    "x_train, y_train = data_mnist['x_train'], data_mnist['y_train']\n",
    "x_test, y_test = data_mnist['x_test'], data_mnist['y_test']\n",
    "\n",
    "x_train, x_test = x_train/255.0,x_test/255.0\n",
    "\n",
    "model = Sequential([\n",
    "    Input(shape=(28, 28, 1)),\n",
    "    Flatten(),\n",
    "    Dense(128, activation ='relu'),\n",
    "    Dense(128, activation = 'relu'),\n",
    "    Dense(64, activation='relu'),\n",
    "    Dense(64, activation ='relu'),\n",
    "    Dense(10, activation ='softmax')\n",
    "])\n",
    "\n",
    "model.compile(optimizer='adam', loss='sparse_categorical_crossentropy', metrics=['accuracy'])\n",
    "model.fit(x_train, y_train, epochs=10, batch_size=32, validation_split = 0.2)\n",
    "\n",
    "loss,accuracy = model.evaluate(x_test, y_test)\n",
    "print(f\"Loss : {loss*100: .2f}%\")\n",
    "print(f\"Accuracy : {accuracy*100: .2f}%\")"
   ]
  },
  {
   "cell_type": "code",
   "execution_count": null,
   "id": "3c03c4cf-0288-480c-a9e2-5505e27014ec",
   "metadata": {},
   "outputs": [],
   "source": []
  }
 ],
 "metadata": {
  "kernelspec": {
   "display_name": "Python 3 (ipykernel)",
   "language": "python",
   "name": "python3"
  },
  "language_info": {
   "codemirror_mode": {
    "name": "ipython",
    "version": 3
   },
   "file_extension": ".py",
   "mimetype": "text/x-python",
   "name": "python",
   "nbconvert_exporter": "python",
   "pygments_lexer": "ipython3",
   "version": "3.12.4"
  }
 },
 "nbformat": 4,
 "nbformat_minor": 5
}
