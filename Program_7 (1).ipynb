{
 "cells": [
  {
   "cell_type": "markdown",
   "id": "e6a1db71-5102-4958-a352-82b8410dbdd5",
   "metadata": {},
   "source": [
    "QA."
   ]
  },
  {
   "cell_type": "code",
   "execution_count": 2,
   "id": "44e8fc82-4b2b-4606-bc10-b7a3bf399694",
   "metadata": {},
   "outputs": [],
   "source": [
    "import numpy as np\n",
    "from tensorflow.keras.models import Sequential\n",
    "from tensorflow.keras.layers import Dense, Flatten, Dropout, Conv2D, MaxPooling2D,Input\n",
    "from tensorflow.keras.utils import to_categorical"
   ]
  },
  {
   "cell_type": "code",
   "execution_count": 3,
   "id": "d72ae347-8345-48af-b5ed-9a101e5be036",
   "metadata": {},
   "outputs": [
    {
     "name": "stdout",
     "output_type": "stream",
     "text": [
      "Epoch 1/10\n",
      "\u001b[1m1875/1875\u001b[0m \u001b[32m━━━━━━━━━━━━━━━━━━━━\u001b[0m\u001b[37m\u001b[0m \u001b[1m64s\u001b[0m 31ms/step - accuracy: 0.7321 - loss: 0.7434 - val_accuracy: 0.8679 - val_loss: 0.3611\n",
      "Epoch 2/10\n",
      "\u001b[1m1875/1875\u001b[0m \u001b[32m━━━━━━━━━━━━━━━━━━━━\u001b[0m\u001b[37m\u001b[0m \u001b[1m89s\u001b[0m 35ms/step - accuracy: 0.8648 - loss: 0.3779 - val_accuracy: 0.8872 - val_loss: 0.3115\n",
      "Epoch 3/10\n",
      "\u001b[1m1875/1875\u001b[0m \u001b[32m━━━━━━━━━━━━━━━━━━━━\u001b[0m\u001b[37m\u001b[0m \u001b[1m82s\u001b[0m 35ms/step - accuracy: 0.8854 - loss: 0.3130 - val_accuracy: 0.8933 - val_loss: 0.2910\n",
      "Epoch 4/10\n",
      "\u001b[1m1875/1875\u001b[0m \u001b[32m━━━━━━━━━━━━━━━━━━━━\u001b[0m\u001b[37m\u001b[0m \u001b[1m65s\u001b[0m 34ms/step - accuracy: 0.8998 - loss: 0.2803 - val_accuracy: 0.8996 - val_loss: 0.2738\n",
      "Epoch 5/10\n",
      "\u001b[1m1875/1875\u001b[0m \u001b[32m━━━━━━━━━━━━━━━━━━━━\u001b[0m\u001b[37m\u001b[0m \u001b[1m82s\u001b[0m 34ms/step - accuracy: 0.9031 - loss: 0.2618 - val_accuracy: 0.9026 - val_loss: 0.2656\n",
      "Epoch 6/10\n",
      "\u001b[1m1875/1875\u001b[0m \u001b[32m━━━━━━━━━━━━━━━━━━━━\u001b[0m\u001b[37m\u001b[0m \u001b[1m64s\u001b[0m 34ms/step - accuracy: 0.9099 - loss: 0.2420 - val_accuracy: 0.9052 - val_loss: 0.2593\n",
      "Epoch 7/10\n",
      "\u001b[1m1875/1875\u001b[0m \u001b[32m━━━━━━━━━━━━━━━━━━━━\u001b[0m\u001b[37m\u001b[0m \u001b[1m82s\u001b[0m 34ms/step - accuracy: 0.9175 - loss: 0.2278 - val_accuracy: 0.9095 - val_loss: 0.2521\n",
      "Epoch 8/10\n",
      "\u001b[1m1875/1875\u001b[0m \u001b[32m━━━━━━━━━━━━━━━━━━━━\u001b[0m\u001b[37m\u001b[0m \u001b[1m79s\u001b[0m 33ms/step - accuracy: 0.9223 - loss: 0.2086 - val_accuracy: 0.9070 - val_loss: 0.2522\n",
      "Epoch 9/10\n",
      "\u001b[1m1875/1875\u001b[0m \u001b[32m━━━━━━━━━━━━━━━━━━━━\u001b[0m\u001b[37m\u001b[0m \u001b[1m85s\u001b[0m 34ms/step - accuracy: 0.9256 - loss: 0.2014 - val_accuracy: 0.9082 - val_loss: 0.2511\n",
      "Epoch 10/10\n",
      "\u001b[1m1875/1875\u001b[0m \u001b[32m━━━━━━━━━━━━━━━━━━━━\u001b[0m\u001b[37m\u001b[0m \u001b[1m82s\u001b[0m 34ms/step - accuracy: 0.9282 - loss: 0.1885 - val_accuracy: 0.9124 - val_loss: 0.2490\n",
      "\u001b[1m313/313\u001b[0m \u001b[32m━━━━━━━━━━━━━━━━━━━━\u001b[0m\u001b[37m\u001b[0m \u001b[1m5s\u001b[0m 17ms/step - accuracy: 0.9120 - loss: 0.2503\n",
      "Loss : 24.90%\n",
      "Accuracy : 91.24%\n"
     ]
    }
   ],
   "source": [
    "data = np.load('fashion_mnist.npz')\n",
    "x_train, y_train = data['x_train'], data['y_train']\n",
    "x_test, y_test = data['x_test'], data['y_test']\n",
    "\n",
    "x_train, x_test = x_train/255.0, x_test/255.0\n",
    "x_train =x_train[...,None]\n",
    "x_test = x_test[...,None]\n",
    "y_train, y_test = to_categorical(y_train, 10), to_categorical(y_test, 10)\n",
    "\n",
    "model = Sequential([\n",
    "    Input(shape=(28, 28, 1)),\n",
    "    Conv2D(32, (3, 3), activation ='relu'),\n",
    "    MaxPooling2D(),\n",
    "    Conv2D(64, (3, 3), activation ='relu'),\n",
    "    MaxPooling2D(),\n",
    "    Flatten(),\n",
    "    Dense(128, activation ='relu'),\n",
    "    Dropout(0.5),\n",
    "    Dense(10, activation ='softmax')\n",
    "          \n",
    "])\n",
    "\n",
    "model.compile(optimizer ='adam', loss ='categorical_crossentropy', metrics =['accuracy'])\n",
    "model.fit(x_train, y_train, epochs = 10, batch_size=32, validation_data =(x_test, y_test))\n",
    "\n",
    "loss,accuracy =model.evaluate(x_test, y_test)\n",
    "print(f\"Loss :{loss*100: .2f}%\")\n",
    "print(f\"Accuracy :{accuracy*100: .2f}%\")"
   ]
  },
  {
   "cell_type": "code",
   "execution_count": 6,
   "id": "2b582324-77c7-413e-a2e5-9e133e3b39b7",
   "metadata": {},
   "outputs": [],
   "source": [
    "import numpy as np\n",
    "from tensorflow.keras.models import Sequential\n",
    "from tensorflow.keras.utils import to_categorical\n",
    "from tensorflow.keras.layers import Dense,Flatten,Dropout,Conv2D,MaxPooling2D,Input"
   ]
  },
  {
   "cell_type": "code",
   "execution_count": 7,
   "id": "ad743026-2440-45db-b58a-33abcedf41ec",
   "metadata": {},
   "outputs": [
    {
     "name": "stdout",
     "output_type": "stream",
     "text": [
      "Epoch 1/5\n",
      "\u001b[1m1875/1875\u001b[0m \u001b[32m━━━━━━━━━━━━━━━━━━━━\u001b[0m\u001b[37m\u001b[0m \u001b[1m134s\u001b[0m 67ms/step - accuracy: 0.7154 - loss: 0.7828 - val_accuracy: 0.8715 - val_loss: 0.3521\n",
      "Epoch 2/5\n",
      "\u001b[1m1875/1875\u001b[0m \u001b[32m━━━━━━━━━━━━━━━━━━━━\u001b[0m\u001b[37m\u001b[0m \u001b[1m139s\u001b[0m 66ms/step - accuracy: 0.8643 - loss: 0.3778 - val_accuracy: 0.8854 - val_loss: 0.3055\n",
      "Epoch 3/5\n",
      "\u001b[1m1875/1875\u001b[0m \u001b[32m━━━━━━━━━━━━━━━━━━━━\u001b[0m\u001b[37m\u001b[0m \u001b[1m132s\u001b[0m 71ms/step - accuracy: 0.8904 - loss: 0.3036 - val_accuracy: 0.9048 - val_loss: 0.2640\n",
      "Epoch 4/5\n",
      "\u001b[1m1875/1875\u001b[0m \u001b[32m━━━━━━━━━━━━━━━━━━━━\u001b[0m\u001b[37m\u001b[0m \u001b[1m140s\u001b[0m 70ms/step - accuracy: 0.9039 - loss: 0.2652 - val_accuracy: 0.9127 - val_loss: 0.2411\n",
      "Epoch 5/5\n",
      "\u001b[1m1875/1875\u001b[0m \u001b[32m━━━━━━━━━━━━━━━━━━━━\u001b[0m\u001b[37m\u001b[0m \u001b[1m138s\u001b[0m 67ms/step - accuracy: 0.9129 - loss: 0.2408 - val_accuracy: 0.9114 - val_loss: 0.2526\n",
      "\u001b[1m313/313\u001b[0m \u001b[32m━━━━━━━━━━━━━━━━━━━━\u001b[0m\u001b[37m\u001b[0m \u001b[1m9s\u001b[0m 29ms/step - accuracy: 0.9119 - loss: 0.2625\n",
      "Loss : 25.26%\n",
      "Accuracy : 91.14%\n"
     ]
    }
   ],
   "source": [
    "data = np.load('fashion_mnist.npz')\n",
    "x_train, y_train =data['x_train'],data['y_train']\n",
    "x_test, y_test = data['x_test'], data['y_test']\n",
    "\n",
    "x_train,x_test = x_train/255.0, x_test/255.0\n",
    "x_train = x_train[...,None]\n",
    "x_test = x_test[...,None]\n",
    "y_train, y_test = to_categorical(y_train, 10), to_categorical(y_test, 10)\n",
    "\n",
    "model = Sequential([\n",
    "    Input(shape=(28, 28, 1)),\n",
    "    Conv2D(32, (3, 3), activation ='relu'),\n",
    "    Conv2D(32, (3, 3), activation ='relu'),\n",
    "    MaxPooling2D(2, 2),\n",
    "    Conv2D(64, (3, 3), activation ='relu'),\n",
    "    Conv2D(64, (3, 3), activation ='relu'),\n",
    "    MaxPooling2D(2, 2),\n",
    "    Flatten(),\n",
    "    Dense(128, activation ='relu'),\n",
    "    Dropout(0.5),\n",
    "    Dense(10, activation='softmax')\n",
    "    \n",
    "])\n",
    "\n",
    "model.compile(optimizer ='adam', loss ='categorical_crossentropy', metrics =['accuracy'])\n",
    "model.fit(x_train, y_train, epochs=5, batch_size=32, validation_data=(x_test, y_test))\n",
    "\n",
    "loss,accuracy=model.evaluate(x_test, y_test)\n",
    "print(f\"Loss :{loss*100: .2f}%\")\n",
    "print(f\"Accuracy :{accuracy*100: .2f}%\")"
   ]
  },
  {
   "cell_type": "code",
   "execution_count": null,
   "id": "99c7d4e8-50c7-4df7-a896-03dd63d386c4",
   "metadata": {},
   "outputs": [],
   "source": []
  }
 ],
 "metadata": {
  "kernelspec": {
   "display_name": "Python 3 (ipykernel)",
   "language": "python",
   "name": "python3"
  },
  "language_info": {
   "codemirror_mode": {
    "name": "ipython",
    "version": 3
   },
   "file_extension": ".py",
   "mimetype": "text/x-python",
   "name": "python",
   "nbconvert_exporter": "python",
   "pygments_lexer": "ipython3",
   "version": "3.12.4"
  }
 },
 "nbformat": 4,
 "nbformat_minor": 5
}
