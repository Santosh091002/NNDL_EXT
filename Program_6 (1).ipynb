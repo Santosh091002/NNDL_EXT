{
 "cells": [
  {
   "cell_type": "raw",
   "id": "0c2d62e7-31c0-412e-8244-8f9b8252af3b",
   "metadata": {},
   "source": [
    "Q6. Implement Bi-directional LSTM for sentiment analysis on movie reviews."
   ]
  },
  {
   "cell_type": "code",
   "execution_count": null,
   "id": "f07e8620-369c-402b-bd8e-b916098ef68a",
   "metadata": {},
   "outputs": [],
   "source": [
    "import tensorflow as tf\n",
    "from tensorflow.keras.preprocessing.sequence import pad_sequences\n",
    "from tensorflow.keras.models import Sequential\n",
    "from tensorflow.keras.layers import Embedding, LSTM, Dense, Bidirectional\n",
    "import numpy as np\n",
    "\n",
    "# Parameters\n",
    "max_features, max_len = 10000, 200\n",
    "\n",
    "# Load dataset\n",
    "data = np.load('imdb_limited.npz', allow_pickle=True)\n",
    "x_train, y_train, x_test, y_test = data['x_train'], data['y_train'], data['x_test'], data['y_test']\n",
    "\n",
    "# Build and train model\n",
    "model = Sequential([\n",
    "    Embedding(max_features, 64, input_length=max_len),\n",
    "    Bidirectional(LSTM(32)),\n",
    "    Dense(1, activation='sigmoid')\n",
    "])\n",
    "model.compile(optimizer='adam', loss='binary_crossentropy', metrics=['accuracy'])\n",
    "model.fit(x_train, y_train, epochs=5, batch_size=64, validation_split=0.2)\n",
    "\n",
    "# Evaluate and test\n",
    "print(f\"Test Accuracy: {model.evaluate(x_test, y_test)[1]:.2f}\")\n",
    "\n",
    "# Predict custom review sentiment\n",
    "word_index = {\"the\": 1, \"movie\": 2, \"was\": 3, \"amazing\": 4, \"loved\": 5, \"horrible\": 6, \"bad\": 7}\n",
    "review = \"The movie was amazing\"\n",
    "encoded = [word_index.get(w.lower(), 2) for w in review.split()]\n",
    "padded = pad_sequences([encoded], maxlen=max_len)\n",
    "pred = model.predict(padded)[0][0]\n",
    "print(f\"{'Positive' if pred > 0.5 else 'Negative'} sentiment with confidence {max(pred, 1 - pred):.2f}\") "
   ]
  },
  {
   "cell_type": "code",
   "execution_count": null,
   "id": "67edc790-9ea2-43c6-a6e4-4e64e55dc715",
   "metadata": {},
   "outputs": [],
   "source": []
  },
  {
   "cell_type": "code",
   "execution_count": 3,
   "id": "948c8bbb-e962-4881-838d-bc872c2b0ea0",
   "metadata": {},
   "outputs": [],
   "source": [
    "import numpy as np\n",
    "from tensorflow.keras.preprocessing.sequence import pad_sequences\n",
    "from tensorflow.keras.models import Sequential\n",
    "from tensorflow.keras.layers import Dense, Embedding, Bidirectional, LSTM"
   ]
  },
  {
   "cell_type": "code",
   "execution_count": 5,
   "id": "5e61d058-1436-4961-9d49-071a8bcd6234",
   "metadata": {},
   "outputs": [
    {
     "name": "stdout",
     "output_type": "stream",
     "text": [
      "Epoch 1/5\n",
      "\u001b[1m625/625\u001b[0m \u001b[32m━━━━━━━━━━━━━━━━━━━━\u001b[0m\u001b[37m\u001b[0m \u001b[1m114s\u001b[0m 162ms/step - accuracy: 0.7116 - loss: 0.5508 - val_accuracy: 0.8580 - val_loss: 0.3362\n",
      "Epoch 2/5\n",
      "\u001b[1m625/625\u001b[0m \u001b[32m━━━━━━━━━━━━━━━━━━━━\u001b[0m\u001b[37m\u001b[0m \u001b[1m152s\u001b[0m 177ms/step - accuracy: 0.8971 - loss: 0.2649 - val_accuracy: 0.8624 - val_loss: 0.3140\n",
      "Epoch 3/5\n",
      "\u001b[1m625/625\u001b[0m \u001b[32m━━━━━━━━━━━━━━━━━━━━\u001b[0m\u001b[37m\u001b[0m \u001b[1m140s\u001b[0m 173ms/step - accuracy: 0.9328 - loss: 0.1898 - val_accuracy: 0.8742 - val_loss: 0.3138\n",
      "Epoch 4/5\n",
      "\u001b[1m625/625\u001b[0m \u001b[32m━━━━━━━━━━━━━━━━━━━━\u001b[0m\u001b[37m\u001b[0m \u001b[1m146s\u001b[0m 179ms/step - accuracy: 0.9503 - loss: 0.1405 - val_accuracy: 0.8708 - val_loss: 0.3730\n",
      "Epoch 5/5\n",
      "\u001b[1m625/625\u001b[0m \u001b[32m━━━━━━━━━━━━━━━━━━━━\u001b[0m\u001b[37m\u001b[0m \u001b[1m111s\u001b[0m 178ms/step - accuracy: 0.9639 - loss: 0.1040 - val_accuracy: 0.8664 - val_loss: 0.4379\n",
      "\u001b[1m782/782\u001b[0m \u001b[32m━━━━━━━━━━━━━━━━━━━━\u001b[0m\u001b[37m\u001b[0m \u001b[1m37s\u001b[0m 47ms/step - accuracy: 0.8529 - loss: 0.4817\n",
      "Accuracy : 85.29%\n",
      "\u001b[1m1/1\u001b[0m \u001b[32m━━━━━━━━━━━━━━━━━━━━\u001b[0m\u001b[37m\u001b[0m \u001b[1m1s\u001b[0m 1s/step\n"
     ]
    },
    {
     "ename": "ValueError",
     "evalue": "Invalid format specifier ' .2f ' for object of type 'float'",
     "output_type": "error",
     "traceback": [
      "\u001b[1;31m---------------------------------------------------------------------------\u001b[0m",
      "\u001b[1;31mValueError\u001b[0m                                Traceback (most recent call last)",
      "Cell \u001b[1;32mIn[5], line 25\u001b[0m\n\u001b[0;32m     23\u001b[0m padded \u001b[38;5;241m=\u001b[39m pad_sequences([encoded], maxlen\u001b[38;5;241m=\u001b[39mmax_len)\n\u001b[0;32m     24\u001b[0m pred \u001b[38;5;241m=\u001b[39m model\u001b[38;5;241m.\u001b[39mpredict(padded)[\u001b[38;5;241m0\u001b[39m][\u001b[38;5;241m0\u001b[39m]\n\u001b[1;32m---> 25\u001b[0m \u001b[38;5;28mprint\u001b[39m(\u001b[38;5;124mf\u001b[39m\u001b[38;5;124m\"\u001b[39m\u001b[38;5;132;01m{\u001b[39;00m\u001b[38;5;124m'\u001b[39m\u001b[38;5;124mPositive\u001b[39m\u001b[38;5;124m'\u001b[39m\u001b[38;5;250m \u001b[39m\u001b[38;5;28;01mif\u001b[39;00m\u001b[38;5;250m \u001b[39mpred\u001b[38;5;241m>\u001b[39m\u001b[38;5;241m0.5\u001b[39m\u001b[38;5;250m \u001b[39m\u001b[38;5;28;01melse\u001b[39;00m\u001b[38;5;250m \u001b[39m\u001b[38;5;124m'\u001b[39m\u001b[38;5;124mNegative\u001b[39m\u001b[38;5;124m'\u001b[39m\u001b[38;5;132;01m}\u001b[39;00m\u001b[38;5;124m sentiment with confidence \u001b[39m\u001b[38;5;132;01m{\u001b[39;00m\u001b[38;5;28mmax\u001b[39m(pred,\u001b[38;5;250m \u001b[39m\u001b[38;5;241m1\u001b[39m\u001b[38;5;241m-\u001b[39mpred)\u001b[38;5;132;01m:\u001b[39;00m\u001b[38;5;124m .2f \u001b[39m\u001b[38;5;132;01m}\u001b[39;00m\u001b[38;5;124m\"\u001b[39m)\n",
      "\u001b[1;31mValueError\u001b[0m: Invalid format specifier ' .2f ' for object of type 'float'"
     ]
    }
   ],
   "source": [
    "data = np.load('imdb_limited.npz')\n",
    "x_train, y_train = data['x_train'], data['y_train']\n",
    "x_test, y_test = data['x_test'], data['y_test']\n",
    "\n",
    "max_features = 10000\n",
    "max_len =10\n",
    "\n",
    "model = Sequential([\n",
    "    Embedding(max_features, 64, input_length =max_len),\n",
    "    Bidirectional(LSTM(32)),\n",
    "    Dense(1, activation = 'sigmoid')\n",
    "])\n",
    "\n",
    "model.compile(optimizer='adam',loss='binary_crossentropy', metrics=['accuracy'])\n",
    "model.fit(x_train, y_train, epochs=5, batch_size=32, validation_split=0.2)\n",
    "\n",
    "loss, accuracy=model.evaluate(x_test, y_test)\n",
    "print(f\"Accuracy :{accuracy*100: .2f}%\")\n",
    "\n",
    "word_index ={\"The\":1,\"Movie\":2,\"is\":3,\"amazing\":4,\"bad\":5,\"horrible\":6,\"good\":7}\n",
    "review = \"The movie is amazing\"\n",
    "encoded = [word_index .get(w.lower(), 2) for w in review.split()]\n",
    "padded = pad_sequences([encoded], maxlen=max_len)\n",
    "pred = model.predict(padded)[0][0]\n",
    "print(f\"{'Positive' if pred>0.5 else 'Negative'} sentiment with confidence {max(pred, 1-pred): .2f }\")"
   ]
  },
  {
   "cell_type": "code",
   "execution_count": null,
   "id": "7515c35e-ffa4-4579-8107-b27e04adbc8c",
   "metadata": {},
   "outputs": [],
   "source": []
  },
  {
   "cell_type": "code",
   "execution_count": null,
   "id": "3041a077-01c6-496d-8b0d-3c552ea94049",
   "metadata": {},
   "outputs": [],
   "source": []
  },
  {
   "cell_type": "code",
   "execution_count": null,
   "id": "37ef9a95-bba0-4f29-a7e1-c9f80fcd6002",
   "metadata": {},
   "outputs": [],
   "source": []
  },
  {
   "cell_type": "code",
   "execution_count": null,
   "id": "5967490a-b2af-4132-a3b3-63d4a11c1a6f",
   "metadata": {},
   "outputs": [],
   "source": []
  },
  {
   "cell_type": "code",
   "execution_count": null,
   "id": "be427097-1e9e-4229-91ce-a6d15bba52f8",
   "metadata": {},
   "outputs": [],
   "source": []
  },
  {
   "cell_type": "code",
   "execution_count": null,
   "id": "49314f28-48db-4dc8-814b-de993ba0f08e",
   "metadata": {},
   "outputs": [],
   "source": []
  },
  {
   "cell_type": "code",
   "execution_count": null,
   "id": "adf7160b-7407-4066-91d3-16d37f40382d",
   "metadata": {},
   "outputs": [],
   "source": []
  },
  {
   "cell_type": "code",
   "execution_count": null,
   "id": "016ff70f-3367-4cd8-abf9-2040a26e23ce",
   "metadata": {},
   "outputs": [],
   "source": []
  }
 ],
 "metadata": {
  "kernelspec": {
   "display_name": "Python 3 (ipykernel)",
   "language": "python",
   "name": "python3"
  },
  "language_info": {
   "codemirror_mode": {
    "name": "ipython",
    "version": 3
   },
   "file_extension": ".py",
   "mimetype": "text/x-python",
   "name": "python",
   "nbconvert_exporter": "python",
   "pygments_lexer": "ipython3",
   "version": "3.12.4"
  }
 },
 "nbformat": 4,
 "nbformat_minor": 5
}
